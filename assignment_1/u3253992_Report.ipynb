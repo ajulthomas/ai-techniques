{
 "cells": [
  {
   "cell_type": "markdown",
   "metadata": {},
   "source": [
    "### Abstract\n",
    "\n",
    "This document demonstrates the use of Expectation-Maximisation algorithm for colour image segmentation. Image Segmentation is the process of separating regions of an image based on similarity, colour or texture. The objective of the experiment is to understand the EM algorithm in depth through the image segmentation task and to observe how different segmentation levels affect the perception of image details.\n",
    "\n",
    "# Introduction\n",
    "\n",
    "The experiment involves segmenting three different color images into seperate regions using a Gaussian Mixture Model (GMM) with Expectation-Maximization (EM). Unlike K-means clustering, which assigns each pixel to a hard cluster, GMM treats segmentation as a probabilistic assignment using Gaussian distributions. The EM algorithm works by estimating the maximum likelihood that a pixel is within a color segment.\n",
    "\n",
    "# Methodology\n",
    "\n",
    "### Dataset and Preprocessing\n",
    "\n",
    "The dataset consists of three images: water_coins.png, jump.png and tiger.png. There images are read using the Matplotlib Image library/Python Image Library. The 3D image vectors are reshaped to 2D (nPixels x nColors).\n",
    "\n",
    "### Segmentation\n",
    "\n",
    "The experiment uses EM algorithm to estimate the maximum likelihood of a pixel being in any of the k segments. The likelihood of which segment generates the pixel is directly proportional to the segment size, and is modeled via mixture coefficients Pi(k),k = 1...K.\n",
    "\n",
    "# Results and Analysis\n",
    "\n",
    "The final segmented images for diffrent values of k are shown in Figure 1. The following analysis can be drawn from the results:\n",
    "\n",
    "### Water_coins image\n",
    "\n",
    "With K=2, the algorithm converges within the first 5 iterations. The segmentation clearly distinguishes the coins from the background. As the number of segments increases, more finer details including the writings on the coins are detected.\n",
    "\n",
    "### Jump image\n",
    "\n",
    "At k=2, the algorithm clearly segregates the skiy and icy mountain. Even the patches of snow under the shoes is clearly detected. More finer details including the jackets, pants, shoes, various shades within the sky is clearly detected at k=5.\n",
    "\n",
    "### Tiger image\n",
    "\n",
    "The tiger image is the most complex one among the images used for the experiment, given that it has more complex colour distribution. The image could primarily be divided into four segments, Tiger, Grass, Land and Water. The colour of dried grass looks much similar to that of land and tiger.\n",
    "\n",
    "Given the complex distribution of colours, the algorithm was effective in segmenting these colours, including the stripes on the tiger. The algorithm could have better segmented the image, if it was run for more iterations to converge.\n",
    "\n",
    "# Conclusion\n",
    "\n",
    "The experiment illustrates the use of EM algorithm for colour image segmentation and explains how difefrent levels of segmentation affects the output. It is evident from the output that smaller segments are faster and effective in segregating the various objects, however for detailed analysis higher segmentations could be benefincial.\n"
   ]
  },
  {
   "cell_type": "markdown",
   "metadata": {},
   "source": []
  }
 ],
 "metadata": {
  "language_info": {
   "name": "python"
  }
 },
 "nbformat": 4,
 "nbformat_minor": 2
}
